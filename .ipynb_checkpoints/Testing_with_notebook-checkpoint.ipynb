{
 "cells": [
  {
   "cell_type": "code",
   "execution_count": 11,
   "id": "9820ffa6-e665-41a0-92a2-c3998288d88c",
   "metadata": {},
   "outputs": [
    {
     "ename": "SyntaxError",
     "evalue": "invalid syntax (1911034278.py, line 7)",
     "output_type": "error",
     "traceback": [
      "\u001b[1;36m  File \u001b[1;32m\"C:\\AppData\\Local\\Temp\\ipykernel_24156\\1911034278.py\"\u001b[1;36m, line \u001b[1;32m7\u001b[0m\n\u001b[1;33m    df.loc[df[\"Title\"]==\"Current Weight\"]]\u001b[0m\n\u001b[1;37m                                         ^\u001b[0m\n\u001b[1;31mSyntaxError\u001b[0m\u001b[1;31m:\u001b[0m invalid syntax\n"
     ]
    }
   ],
   "source": [
    "import pandas as pd\n",
    "import os\n",
    "fpath = \"daily_trackers\" + os.sep + 'Jan-04-2023_tracker'\n",
    "if os.path.exists(fpath + os.sep + 'calorie_deficit.txt'):\n",
    "        df = pd.read_csv(fpath + os.sep + 'calorie_deficit.txt', sep=\":\")\n",
    "        print(df)\n",
    "        df.loc[df[\"Title\"]==\"Current Weight\"]\n",
    "        print(current_weight)"
   ]
  }
 ],
 "metadata": {
  "kernelspec": {
   "display_name": "Python 3 (ipykernel)",
   "language": "python",
   "name": "python3"
  },
  "language_info": {
   "codemirror_mode": {
    "name": "ipython",
    "version": 3
   },
   "file_extension": ".py",
   "mimetype": "text/x-python",
   "name": "python",
   "nbconvert_exporter": "python",
   "pygments_lexer": "ipython3",
   "version": "3.7.8"
  }
 },
 "nbformat": 4,
 "nbformat_minor": 5
}
