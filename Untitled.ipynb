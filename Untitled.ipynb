{
 "cells": [
  {
   "cell_type": "code",
   "execution_count": 10,
   "id": "28ef49f2-8bb9-4b13-bd04-6b667629acfa",
   "metadata": {},
   "outputs": [],
   "source": [
    "import pandas as pd\n",
    "import csv"
   ]
  },
  {
   "cell_type": "markdown",
   "id": "35196bfc-258d-4980-9318-937e7b3e220b",
   "metadata": {
    "tags": []
   },
   "source": [
    "<!-- fname = 'item_calorie_dict.csv'\n",
    "item = 'pasta lasgna sheets'\n",
    "measure = '1 sheet'\n",
    "calories = 85\n",
    "protein = 3.5\n",
    "fats = 0.5\n",
    "carbs = 18.5\n",
    "df = pd.read_csv(\"item_calorie_dict.csv\")\n",
    "df.loc[len(df.index)] = [item,measure,calories,protein,fats,carbs]\n",
    "df.to_csv('item_calorie_dict.csv',index=False) -->\n"
   ]
  },
  {
   "cell_type": "code",
   "execution_count": null,
   "id": "c7e03dea-c67d-43a3-9e50-1fcdbda3955a",
   "metadata": {},
   "outputs": [],
   "source": [
    "tomato\t1\t33\t7.13\t0.36\t1.6\n",
    "\n"
   ]
  },
  {
   "cell_type": "code",
   "execution_count": 25,
   "id": "d0447da3-07ba-4e8e-9a53-3c125a7c7425",
   "metadata": {},
   "outputs": [],
   "source": [
    "item = 'eggplant'\n",
    "measure = '1 small'\n",
    "calories = 25\n",
    "protein = 1\n",
    "fats = 0.2\n",
    "carbs = 6\n",
    "df = pd.read_csv(\"item_calorie_dict.csv\")\n",
    "df.loc[df['food_item'] == item] = [item,measure,calories,protein,fats,carbs]\n",
    "df.to_csv('item_calorie_dict.csv',index=False)"
   ]
  }
 ],
 "metadata": {
  "kernelspec": {
   "display_name": "Python 3 (ipykernel)",
   "language": "python",
   "name": "python3"
  },
  "language_info": {
   "codemirror_mode": {
    "name": "ipython",
    "version": 3
   },
   "file_extension": ".py",
   "mimetype": "text/x-python",
   "name": "python",
   "nbconvert_exporter": "python",
   "pygments_lexer": "ipython3",
   "version": "3.7.8"
  }
 },
 "nbformat": 4,
 "nbformat_minor": 5
}
