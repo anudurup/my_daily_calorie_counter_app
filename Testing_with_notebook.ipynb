{
 "cells": [
  {
   "cell_type": "code",
   "execution_count": 9,
   "id": "8c4afd76-c730-4be9-ae3c-f981369d1ea5",
   "metadata": {},
   "outputs": [],
   "source": [
    "import pandas as pd\n",
    "import json\n",
    "import numpy as np"
   ]
  },
  {
   "cell_type": "markdown",
   "id": "9b59d93a-a93d-45f8-a35a-85a0aa08bfd7",
   "metadata": {
    "tags": []
   },
   "source": [
    "# Change the names of ingredients in recipes.json"
   ]
  },
  {
   "cell_type": "code",
   "execution_count": 10,
   "id": "39b1b2b3-5846-4f19-a7f0-78cf7ff56d8f",
   "metadata": {},
   "outputs": [
    {
     "name": "stdout",
     "output_type": "stream",
     "text": [
      "0.aashirvaad multigrain atta,\n"
     ]
    },
    {
     "ename": "ValueError",
     "evalue": "invalid literal for int() with base 10: ''",
     "output_type": "error",
     "traceback": [
      "\u001b[1;31m---------------------------------------------------------------------------\u001b[0m",
      "\u001b[1;31mValueError\u001b[0m                                Traceback (most recent call last)",
      "\u001b[1;32m~\\AppData\\Local\\Temp\\ipykernel_10724\\149029842.py\u001b[0m in \u001b[0;36m<module>\u001b[1;34m\u001b[0m\n\u001b[0;32m     17\u001b[0m         \u001b[0mmissing_list\u001b[0m\u001b[1;33m.\u001b[0m\u001b[0mappend\u001b[0m\u001b[1;33m(\u001b[0m\u001b[0mkey\u001b[0m\u001b[1;33m)\u001b[0m\u001b[1;33m\u001b[0m\u001b[1;33m\u001b[0m\u001b[0m\n\u001b[0;32m     18\u001b[0m     \u001b[1;32melse\u001b[0m\u001b[1;33m:\u001b[0m\u001b[1;33m\u001b[0m\u001b[1;33m\u001b[0m\u001b[0m\n\u001b[1;32m---> 19\u001b[1;33m         \u001b[0mnew_name\u001b[0m \u001b[1;33m=\u001b[0m \u001b[0mmatch_items\u001b[0m\u001b[1;33m[\u001b[0m\u001b[0mint\u001b[0m\u001b[1;33m(\u001b[0m\u001b[0mindex\u001b[0m\u001b[1;33m)\u001b[0m\u001b[1;33m]\u001b[0m\u001b[1;33m\u001b[0m\u001b[1;33m\u001b[0m\u001b[0m\n\u001b[0m\u001b[0;32m     20\u001b[0m         \u001b[0mrecipes\u001b[0m\u001b[1;33m[\u001b[0m\u001b[0mrecipe\u001b[0m\u001b[1;33m]\u001b[0m\u001b[1;33m[\u001b[0m\u001b[0mnew_name\u001b[0m\u001b[1;33m]\u001b[0m \u001b[1;33m=\u001b[0m \u001b[0mvalue\u001b[0m\u001b[1;33m\u001b[0m\u001b[1;33m\u001b[0m\u001b[0m\n\u001b[0;32m     21\u001b[0m         \u001b[1;32mdel\u001b[0m \u001b[0mrecipes\u001b[0m\u001b[1;33m[\u001b[0m\u001b[0mrecipe\u001b[0m\u001b[1;33m]\u001b[0m\u001b[1;33m[\u001b[0m\u001b[0mkey\u001b[0m\u001b[1;33m]\u001b[0m\u001b[1;33m\u001b[0m\u001b[1;33m\u001b[0m\u001b[0m\n",
      "\u001b[1;31mValueError\u001b[0m: invalid literal for int() with base 10: ''"
     ]
    }
   ],
   "source": [
    "f = open(\"recipes.json\")\n",
    "recipes = json.load(f)\n",
    "df = pd.read_csv(\"item_calorie_dict.csv\")\n",
    "key = \"multigrain atta\"\n",
    "food_items = df[\"food_item\"].to_list()\n",
    "recipe = 'roti'\n",
    "match_items = list()\n",
    "for item in food_items:\n",
    "    if key in item:\n",
    "        match_items.append(item)\n",
    "if len(match_items) != 0:\n",
    "    for i,item in enumerate(match_items):\n",
    "        print(f\"{i}.{item}\",end=\",\")\n",
    "    print(end=\"\\n\")                \n",
    "    index = input(\"select index of match items to select: \")\n",
    "    if (index == -1):\n",
    "        missing_list.append(key)\n",
    "    else:\n",
    "        new_name = match_items[int(index)]\n",
    "        recipes[recipe][new_name] = value        \n",
    "        del recipes[recipe][key]\n",
    "        print(recipes[recipe])\n",
    "f.close()"
   ]
  },
  {
   "cell_type": "code",
   "execution_count": null,
   "id": "7b7a22c8-717c-4397-83a2-dce93b6c1ca0",
   "metadata": {},
   "outputs": [
    {
     "name": "stdout",
     "output_type": "stream",
     "text": [
      "[]\n"
     ]
    }
   ],
   "source": [
    "f = open(\"recipes.json\")\n",
    "recipes = json.load(f)\n",
    "df = pd.read_csv(\"item_calorie_dict.csv\")\n",
    "food_items = df[\"food_item\"].to_list()\n",
    "missing_list = list()\n",
    "for recipe,values in recipes.items():\n",
    "    for key,value in values.items(): \n",
    "        if not 'total' in key.lower() and not 'no_of_servings' in key.lower():\n",
    "            key_exists = (key in df.values)\n",
    "            if not key_exists:\n",
    "                print(key)                \n",
    "                match_items = list()\n",
    "                for item in food_items:\n",
    "                    if key in item:\n",
    "                        match_items.append(item)\n",
    "                if len(match_items) != 0:\n",
    "                    for i,item in enumerate(match_items):\n",
    "                        print(f\"{i}.{item}\",end=\",\")\n",
    "                    print(end=\"\\n\")                \n",
    "                    index = input(\"select index of match items to select: \")\n",
    "                    recipes[recipe][match_items[int(index)]] = value\n",
    "                    del recipes[recipe][key]\n",
    "print(missing_list)                \n",
    "f.close()\n",
    "import os\n",
    "file = 'recipes.json'\n",
    "if (os.path.exists(file)):\n",
    "    os.remove(file)\n",
    "json_object = json.dumps(recipes, indent=4)\n",
    "with open(\"recipes.json\", \"w\") as outfile:\n",
    "    outfile.write(json_object)"
   ]
  },
  {
   "cell_type": "markdown",
   "id": "c30d0c3b-eba4-4ac5-b975-a343e93d82c1",
   "metadata": {
    "tags": []
   },
   "source": [
    "# Update the measures in the recipes.json"
   ]
  },
  {
   "cell_type": "code",
   "execution_count": null,
   "id": "d3ef1df3-bd0b-4a9a-90ed-caa2db6433a3",
   "metadata": {},
   "outputs": [],
   "source": [
    "import json\n",
    "import pandas as pd\n",
    "f = open(\"recipes.json\")\n",
    "recipes = json.load(f)\n",
    "df = pd.read_csv(\"item_calorie_dict.csv\")\n",
    "for recipe,values in recipes.items():\n",
    "    for key,value in values.items(): \n",
    "        if not 'total' in key.lower() and not 'no_of_servings' in key.lower():\n",
    "            measure = df.loc[df[\"food_item\"] == key][\"measure\"].squeeze()\n",
    "            if (len(str(measure).split()) > 1) and (len(value.split()) == 1):\n",
    "                recipes[recipe][key] += \" \" + str(measure).split()[1]\n",
    "f.close()\n",
    "import os\n",
    "file = 'recipes.json'\n",
    "if (os.path.exists(file)):\n",
    "    os.remove(file)\n",
    "json_object = json.dumps(recipes, indent=4)\n",
    "with open(\"recipes.json\", \"w\") as outfile:\n",
    "    outfile.write(json_object)"
   ]
  },
  {
   "cell_type": "markdown",
   "id": "3ee78c83-f914-40a6-b74e-869d0cb4bc82",
   "metadata": {
    "tags": []
   },
   "source": [
    "## Get new ingredient string from recipe.json to recipes.xlsx"
   ]
  },
  {
   "cell_type": "code",
   "execution_count": null,
   "id": "4051a374-3bd4-45c8-be54-87b3fe2b0c9a",
   "metadata": {},
   "outputs": [],
   "source": [
    "f = open(\"recipes.json\")\n",
    "recipes = json.load(f)\n",
    "df = pd.read_csv(\"recipes.csv\")\n",
    "for recipe, values in recipes.items():\n",
    "    ingredient_string = \"\"\n",
    "    for key,value in values.items():\n",
    "        if not 'total' in key and not 'servings' in key:\n",
    "            ingredient_string += f\"{key}:{value},\"\n",
    "    index = df.index[df['food_item'] == recipe]\n",
    "    df.at[index, 'ingredients'] = ingredient_string.rstrip(',')\n",
    "df.to_csv(\"recipes.csv\", index=False)\n",
    "f.close()"
   ]
  },
  {
   "cell_type": "markdown",
   "id": "12555124-09ad-4da8-9091-44012bbf3a1f",
   "metadata": {
    "tags": []
   },
   "source": [
    "## Calculate new values for calories "
   ]
  },
  {
   "cell_type": "code",
   "execution_count": null,
   "id": "8f15906e-0fd5-4326-ae9f-0f950958d80a",
   "metadata": {},
   "outputs": [
    {
     "ename": "ValueError",
     "evalue": "'rava chowmein' is not in list",
     "output_type": "error",
     "traceback": [
      "\u001b[1;31m---------------------------------------------------------------------------\u001b[0m",
      "\u001b[1;31mValueError\u001b[0m                                Traceback (most recent call last)",
      "\u001b[1;32m~\\AppData\\Local\\Temp\\ipykernel_12628\\1146867824.py\u001b[0m in \u001b[0;36m<module>\u001b[1;34m\u001b[0m\n\u001b[0;32m      9\u001b[0m     \u001b[0mtotal_carbs\u001b[0m \u001b[1;33m=\u001b[0m \u001b[1;36m0\u001b[0m\u001b[1;33m\u001b[0m\u001b[1;33m\u001b[0m\u001b[0m\n\u001b[0;32m     10\u001b[0m     \u001b[1;32mfor\u001b[0m \u001b[0mingredient\u001b[0m \u001b[1;32min\u001b[0m \u001b[0mingredients\u001b[0m\u001b[1;33m:\u001b[0m\u001b[1;33m\u001b[0m\u001b[1;33m\u001b[0m\u001b[0m\n\u001b[1;32m---> 11\u001b[1;33m         \u001b[0mindex\u001b[0m \u001b[1;33m=\u001b[0m \u001b[0mfood_items\u001b[0m\u001b[1;33m.\u001b[0m\u001b[0mindex\u001b[0m\u001b[1;33m(\u001b[0m\u001b[0mingredient\u001b[0m\u001b[1;33m.\u001b[0m\u001b[0msplit\u001b[0m\u001b[1;33m(\u001b[0m\u001b[1;34m\":\"\u001b[0m\u001b[1;33m)\u001b[0m\u001b[1;33m[\u001b[0m\u001b[1;36m0\u001b[0m\u001b[1;33m]\u001b[0m\u001b[1;33m)\u001b[0m\u001b[1;33m\u001b[0m\u001b[1;33m\u001b[0m\u001b[0m\n\u001b[0m\u001b[0;32m     12\u001b[0m         \u001b[0mtotal_cals\u001b[0m \u001b[1;33m+=\u001b[0m \u001b[0mcalories\u001b[0m\u001b[1;33m[\u001b[0m\u001b[0mindex\u001b[0m\u001b[1;33m]\u001b[0m \u001b[1;33m*\u001b[0m \u001b[0mfloat\u001b[0m\u001b[1;33m(\u001b[0m\u001b[0mingredient\u001b[0m\u001b[1;33m.\u001b[0m\u001b[0msplit\u001b[0m\u001b[1;33m(\u001b[0m\u001b[1;34m\":\"\u001b[0m\u001b[1;33m)\u001b[0m\u001b[1;33m[\u001b[0m\u001b[1;36m1\u001b[0m\u001b[1;33m]\u001b[0m\u001b[1;33m.\u001b[0m\u001b[0msplit\u001b[0m\u001b[1;33m(\u001b[0m\u001b[1;33m)\u001b[0m\u001b[1;33m[\u001b[0m\u001b[1;36m0\u001b[0m\u001b[1;33m]\u001b[0m\u001b[1;33m)\u001b[0m\u001b[1;33m\u001b[0m\u001b[1;33m\u001b[0m\u001b[0m\n\u001b[0;32m     13\u001b[0m         \u001b[0mtotal_protein\u001b[0m \u001b[1;33m+=\u001b[0m \u001b[0mprotein\u001b[0m\u001b[1;33m[\u001b[0m\u001b[0mindex\u001b[0m\u001b[1;33m]\u001b[0m \u001b[1;33m*\u001b[0m \u001b[0mfloat\u001b[0m\u001b[1;33m(\u001b[0m\u001b[0mingredient\u001b[0m\u001b[1;33m.\u001b[0m\u001b[0msplit\u001b[0m\u001b[1;33m(\u001b[0m\u001b[1;34m\":\"\u001b[0m\u001b[1;33m)\u001b[0m\u001b[1;33m[\u001b[0m\u001b[1;36m1\u001b[0m\u001b[1;33m]\u001b[0m\u001b[1;33m.\u001b[0m\u001b[0msplit\u001b[0m\u001b[1;33m(\u001b[0m\u001b[1;33m)\u001b[0m\u001b[1;33m[\u001b[0m\u001b[1;36m0\u001b[0m\u001b[1;33m]\u001b[0m\u001b[1;33m)\u001b[0m\u001b[1;33m\u001b[0m\u001b[1;33m\u001b[0m\u001b[0m\n",
      "\u001b[1;31mValueError\u001b[0m: 'rava chowmein' is not in list"
     ]
    }
   ],
   "source": [
    "import functions\n",
    "df = pd.read_csv(\"recipes.csv\")\n",
    "measures,food_items,calories,protein,fats,carbohydrates = functions.load_item_calorie_dict()\n",
    "for i,recipe in enumerate(df['food_item']):\n",
    "    ingredients = df[\"ingredients\"][i].split(\",\")\n",
    "    total_cals = 0\n",
    "    total_protein = 0\n",
    "    total_fats = 0\n",
    "    total_carbs = 0\n",
    "    for ingredient in ingredients:        \n",
    "        index = food_items.index(ingredient.split(\":\")[0])\n",
    "        total_cals += calories[index] * float(ingredient.split(\":\")[1].split()[0])\n",
    "        total_protein += protein[index] * float(ingredient.split(\":\")[1].split()[0])\n",
    "        total_fats += fats[index] * float(ingredient.split(\":\")[1].split()[0])\n",
    "        total_carbs += carbohydrates[index] * float(ingredient.split(\":\")[1].split()[0])\n",
    "    total_cals = total_cals/float(df[\"no_of_servings\"][i])\n",
    "    total_protein = total_protein/float(df[\"no_of_servings\"][i])\n",
    "    total_fats = total_fats/float(df[\"no_of_servings\"][i])\n",
    "    total_carbs = total_carbs/float(df[\"no_of_servings\"][i])\n",
    "    df.at[i,'calories'] = total_cals\n",
    "    df.at[i,'protein'] = total_protein\n",
    "    df.at[i,'fats'] = total_fats\n",
    "    df.at[i,'carbohydrates'] = total_carbs\n",
    "df.to_csv(\"recipes.csv\",index=False)"
   ]
  },
  {
   "cell_type": "markdown",
   "id": "2e7022bd-f68f-40f8-bdd8-c97db6a71030",
   "metadata": {
    "tags": []
   },
   "source": [
    "## Move from recipes.csv to recipes.json after getting new nutrition facts"
   ]
  },
  {
   "cell_type": "code",
   "execution_count": null,
   "id": "bd78d70d-8f0a-4e2f-aeab-b99f6295b1c9",
   "metadata": {},
   "outputs": [],
   "source": [
    "df = pd.read_csv(\"recipes.csv\")\n",
    "recipes = dict()\n",
    "for i,recipe in enumerate(df['food_item']):\n",
    "    recipes[recipe] = dict()\n",
    "    for ingredient in df[\"ingredients\"][i].split(','):\n",
    "        ingredient,measure = ingredient.split(':')\n",
    "        recipes[recipe][ingredient] = measure\n",
    "    recipes[recipe][\"total_cals\"] = df[\"calories\"][i]\n",
    "    recipes[recipe][\"total_protein\"] = df[\"protein\"][i]\n",
    "    recipes[recipe][\"total_fats\"] = df[\"fats\"][i]\n",
    "    recipes[recipe][\"total_carbs\"] = df[\"carbohydrates\"][i]\n",
    "    recipes[recipe][\"no_of_servings\"] = df[\"no_of_servings\"][i]\n",
    "import os\n",
    "file = 'recipes.json'\n",
    "if (os.path.exists(file)):\n",
    "    os.remove(file)\n",
    "json_object = json.dumps(recipes, indent=4)\n",
    "with open(\"recipes.json\", \"w\") as outfile:\n",
    "    outfile.write(json_object)"
   ]
  },
  {
   "attachments": {},
   "cell_type": "markdown",
   "id": "6ec60695",
   "metadata": {},
   "source": [
    "## Update the recipe name"
   ]
  },
  {
   "cell_type": "code",
   "execution_count": null,
   "id": "a039827f",
   "metadata": {},
   "outputs": [],
   "source": [
    "import pandas as pd\n",
    "import os\n",
    "current_name = \"apple smoothie\"\n",
    "new_name = \"apple smoothie with almond milk\"\n",
    "df = pd.read_csv(\"recipes.csv\")\n",
    "index = df.index[df['food_item']==current_name]\n",
    "df.at[index,'food_item'] = new_name\n",
    "df.to_csv(\"recipes.csv\",index=False)\n",
    "df = pd.read_csv(\"item_calorie_dict.csv\")\n",
    "index = df.index[df['food_item']==current_name]\n",
    "df.at[index,'food_item'] = new_name\n",
    "df.to_csv(\"item_calorie_dict.csv\",index=False)\n",
    "import json\n",
    "import pandas as pd\n",
    "f = open(\"recipes.json\")\n",
    "recipes = json.load(f)\n",
    "recipes[new_name] = recipes[current_name]\n",
    "del recipes[current_name]\n",
    "f.close()\n",
    "import os\n",
    "file = 'recipes.json'\n",
    "if (os.path.exists(file)):\n",
    "    os.remove(file)\n",
    "json_object = json.dumps(recipes, indent=4)\n",
    "with open(\"recipes.json\", \"w\") as outfile:\n",
    "    outfile.write(json_object)"
   ]
  },
  {
   "attachments": {},
   "cell_type": "markdown",
   "id": "1be4b0ec",
   "metadata": {},
   "source": [
    "## Update all the daily trackers for recipe name change"
   ]
  },
  {
   "cell_type": "code",
   "execution_count": null,
   "id": "32acfd5f",
   "metadata": {},
   "outputs": [],
   "source": [
    "import glob\n",
    "import os\n",
    "recipe = \"half yolk egg\"\n",
    "changed_name = \"boiled egg with half yolk\"\n",
    "files = glob.glob(\"daily_trackers\\*\\*.txt\")\n",
    "for file in files:\n",
    "    if ('calorie_deficit' in file) or ('total_nutrition' in file):\n",
    "        files.remove(file)\n",
    "for file in files:\n",
    "    with open(file) as f:\n",
    "        lines = f.readlines()\n",
    "        for i,line in enumerate(lines):\n",
    "            if (recipe in line):\n",
    "                lines[i] = changed_name + \" :\\n\"\n",
    "        with open(file,'w') as out_file:\n",
    "            out_file.writelines(lines)\n",
    "\n"
   ]
  },
  {
   "attachments": {},
   "cell_type": "markdown",
   "id": "b9e3b596",
   "metadata": {},
   "source": [
    "## Update all the daily trackers when a meal is updated"
   ]
  },
  {
   "cell_type": "code",
   "execution_count": null,
   "id": "9e95f2d5",
   "metadata": {},
   "outputs": [
    {
     "name": "stdout",
     "output_type": "stream",
     "text": [
      "Calories: 360.0, Measure:  3.0 serving, Protein: 12.997499999999999, Fats: 9.5265, Carbs: 62.09700000000001\n"
     ]
    }
   ],
   "source": [
    "import pandas as pd\n",
    "import glob\n",
    "import os\n",
    "import functions\n",
    "recipe = \"millet dosa\"\n",
    "df = pd.read_csv(\"recipes.csv\")\n",
    "files = glob.glob(\"daily_trackers\\*\\*.txt\")\n",
    "files = [file for file in files if not ('calorie_deficit' in file) and not ('total_nutrition' in file)]\n",
    "for file in files:\n",
    "    with open(file) as f:\n",
    "        lines = f.readlines()\n",
    "        prev_recipe = ''\n",
    "        for i,line in enumerate(lines):\n",
    "            if not 'Calories' in line:\n",
    "                check_recipe = line.split(':')[0].rstrip().lstrip()\n",
    "                prev_recipe = check_recipe\n",
    "            else:\n",
    "                if recipe in prev_recipe:\n",
    "                    measure = float(line.split(',')[1].split(':')[1].split()[0])\n",
    "                    calories = df.loc[df['food_item']==recipe][\"calories\"].squeeze() * measure\n",
    "                    protein = df.loc[df['food_item']==recipe][\"protein\"].squeeze() * measure\n",
    "                    fats = df.loc[df['food_item']==recipe][\"fats\"].squeeze() * measure\n",
    "                    carbs = df.loc[df['food_item']==recipe][\"carbohydrates\"].squeeze() * measure\n",
    "                    lines[i] = f\"Calories: {calories}, Measure: {line.split(',')[1].split(':')[1]}, Protein: {protein}, Fats: {fats}, Carbs: {carbs}\"\n",
    "                    print(lines[i])\n",
    "        with open(file,'w') as out_file:\n",
    "            out_file.writelines(lines)"
   ]
  },
  {
   "attachments": {},
   "cell_type": "markdown",
   "id": "4b76aa0f",
   "metadata": {},
   "source": [
    "## Update recipe calories based on item calories"
   ]
  },
  {
   "cell_type": "code",
   "execution_count": null,
   "id": "ca378c26",
   "metadata": {},
   "outputs": [
    {
     "name": "stdout",
     "output_type": "stream",
     "text": [
      "barnyard millet: 1.75 cup,urad dal: 0.875 cup,methi seeds: 1.0 tbsp,thin poha: 0.5 cup,olive oil: 10.0 tsp\n"
     ]
    },
    {
     "ename": "AttributeError",
     "evalue": "module 'functions' has no attribute 'update_daily_tracker_on_meal_update'",
     "output_type": "error",
     "traceback": [
      "\u001b[1;31m---------------------------------------------------------------------------\u001b[0m",
      "\u001b[1;31mAttributeError\u001b[0m                            Traceback (most recent call last)",
      "\u001b[1;32m~\\AppData\\Local\\Temp\\ipykernel_9368\\3918230799.py\u001b[0m in \u001b[0;36m<module>\u001b[1;34m\u001b[0m\n\u001b[0;32m     54\u001b[0m         \u001b[0mrecipes_excel_dataframe\u001b[0m\u001b[1;33m.\u001b[0m\u001b[0mloc\u001b[0m\u001b[1;33m[\u001b[0m\u001b[0mrecipes_excel_dataframe\u001b[0m\u001b[1;33m[\u001b[0m\u001b[1;34m'food_item'\u001b[0m\u001b[1;33m]\u001b[0m \u001b[1;33m==\u001b[0m \u001b[0mrecipe\u001b[0m\u001b[1;33m]\u001b[0m \u001b[1;33m=\u001b[0m \u001b[1;33m[\u001b[0m\u001b[0mrecipe_name\u001b[0m\u001b[1;33m,\u001b[0m \u001b[0mingredient_string\u001b[0m\u001b[1;33m,\u001b[0m \u001b[0mno_of_servings\u001b[0m\u001b[1;33m,\u001b[0m \u001b[0mtotal_cals\u001b[0m\u001b[1;33m,\u001b[0m \u001b[0mtotal_protein\u001b[0m\u001b[1;33m,\u001b[0m \u001b[0mtotal_fats\u001b[0m\u001b[1;33m,\u001b[0m \u001b[0mtotal_carbs\u001b[0m\u001b[1;33m]\u001b[0m\u001b[1;33m\u001b[0m\u001b[1;33m\u001b[0m\u001b[0m\n\u001b[0;32m     55\u001b[0m         \u001b[0mrecipes_excel_dataframe\u001b[0m\u001b[1;33m.\u001b[0m\u001b[0mto_csv\u001b[0m\u001b[1;33m(\u001b[0m\u001b[1;34m'recipes.csv'\u001b[0m\u001b[1;33m,\u001b[0m\u001b[0mindex\u001b[0m\u001b[1;33m=\u001b[0m\u001b[1;32mFalse\u001b[0m\u001b[1;33m)\u001b[0m\u001b[1;33m\u001b[0m\u001b[1;33m\u001b[0m\u001b[0m\n\u001b[1;32m---> 56\u001b[1;33m     \u001b[0mfunctions\u001b[0m\u001b[1;33m.\u001b[0m\u001b[0mupdate_daily_tracker_on_meal_update\u001b[0m\u001b[1;33m(\u001b[0m\u001b[0mrecipe\u001b[0m\u001b[1;33m)\u001b[0m\u001b[1;33m\u001b[0m\u001b[1;33m\u001b[0m\u001b[0m\n\u001b[0m",
      "\u001b[1;31mAttributeError\u001b[0m: module 'functions' has no attribute 'update_daily_tracker_on_meal_update'"
     ]
    }
   ],
   "source": [
    "import json\n",
    "import pandas as pd\n",
    "import functions\n",
    "recipes_excel = 'recipes.csv'\n",
    "recipes_excel_dataframe = pd.read_csv(recipes_excel)\n",
    "calorie_dict_file = 'item_calorie_dict.csv'\n",
    "calorie_dict_dataframe = pd.read_csv(calorie_dict_file)\n",
    "for recipe in recipes_excel_dataframe['food_item']:\n",
    "    new_ingredients = recipes_excel_dataframe.loc[recipes_excel_dataframe['food_item']==recipe]['ingredients'].squeeze()\n",
    "    print(new_ingredients)\n",
    "    ingredients = dict()\n",
    "    for line in new_ingredients.split(','):\n",
    "        if line.strip() != '':\n",
    "            ingredient = line.split(':')[0]\n",
    "            ingredients[ingredient] = line.split(':')[1]\n",
    "        \n",
    "    update_meal = 1\n",
    "    create_meal = 0\n",
    "    no_of_servings = float(recipes_excel_dataframe.loc[recipes_excel_dataframe['food_item']==recipe]['no_of_servings'].squeeze())\n",
    "    for k, v in ingredients.items():\n",
    "        ingredients[k] = v.rstrip()\n",
    "\n",
    "    recipe_dict = dict()\n",
    "    recipe_dict[recipe] = ingredients\n",
    "    recipe_name,ingre_dict,total_cals,total_protein,total_fats,total_carbs = functions.get_nutrition_facts(recipe_dict,no_of_servings)\n",
    "\n",
    "    f = open('recipes.json')\n",
    "    recipes_json = json.load(f)\n",
    "    f.close()\n",
    "    ingre_dict['total_cals'] = total_cals\n",
    "    ingre_dict['total_protein'] = total_protein\n",
    "    ingre_dict['total_fats'] = total_fats\n",
    "    ingre_dict['total_carbs'] = total_carbs\n",
    "    ingre_dict['no_of_servings'] = no_of_servings\n",
    "    recipes_json[recipe_name] = ingre_dict\n",
    "    functions.write_to_recipes_json_file(recipes_json)\n",
    "\n",
    "    ingredient_string = \"\"\n",
    "    for k,v in ingre_dict.items():\n",
    "        if not ('total' in k) and not ('no_of_servings' == k):\n",
    "            ingredient_string += f\"{k.rstrip()}: {v.rstrip()},\"\n",
    "    ingredient_string = ingredient_string.rstrip(',')\n",
    "\n",
    "    if create_meal == 1 and update_meal == 0:\n",
    "        calorie_dict_dataframe.loc[len(calorie_dict_dataframe.index)] = [recipe_name, '1 serving', total_cals, total_protein, total_fats, total_carbs]\n",
    "        calorie_dict_dataframe.to_csv('item_calorie_dict.csv',index=False)\n",
    "\n",
    "        recipes_excel_dataframe.loc[len(recipes_excel_dataframe.index)] = [recipe_name, ingredient_string, no_of_servings, total_cals, total_protein, total_fats, total_carbs]\n",
    "        recipes_excel_dataframe.to_csv('recipes.csv',index=False)\n",
    "    elif create_meal == 0 and update_meal == 1:\n",
    "        calorie_dict_dataframe.loc[calorie_dict_dataframe['food_item'] == recipe] = [recipe_name, '1 serving', total_cals, total_protein, total_fats, total_carbs]\n",
    "        calorie_dict_dataframe.to_csv('item_calorie_dict.csv',index=False)\n",
    "\n",
    "        recipes_excel_dataframe.loc[recipes_excel_dataframe['food_item'] == recipe] = [recipe_name, ingredient_string, no_of_servings, total_cals, total_protein, total_fats, total_carbs]\n",
    "        recipes_excel_dataframe.to_csv('recipes.csv',index=False)\n",
    "    "
   ]
  },
  {
   "cell_type": "code",
   "execution_count": null,
   "id": "e5f21cdb",
   "metadata": {},
   "outputs": [],
   "source": [
    "\n",
    "import pandas as pd\n",
    "import glob\n",
    "df = pd.read_csv('item_calorie_dict.csv')\n",
    "for recipe in df['food_item']:\n",
    "    files = glob.glob(\"daily_trackers\\*\\*.txt\")\n",
    "    files = [file for file in files if not ('calorie_deficit' in file) and not ('total_nutrition' in file)]\n",
    "    for file in files:\n",
    "        with open(file) as f:\n",
    "            lines = f.readlines()\n",
    "            prev_recipe = ''\n",
    "            for i,line in enumerate(lines):\n",
    "                if not 'Calories' in line:\n",
    "                    check_recipe = line.split(':')[0].rstrip().lstrip()\n",
    "                    prev_recipe = check_recipe\n",
    "                else:\n",
    "                    if recipe == prev_recipe:\n",
    "                        measure = float(line.split(',')[1].split(':')[1].split()[0])\n",
    "                        calories = float(df.loc[df['food_item']==recipe][\"calories\"].squeeze()) * measure\n",
    "                        protein = float(df.loc[df['food_item']==recipe][\"protein\"].squeeze()) * measure\n",
    "                        fats = float(df.loc[df['food_item']==recipe][\"fats\"].squeeze()) * measure\n",
    "                        carbs = float(df.loc[df['food_item']==recipe][\"carbohydrates\"].squeeze()) * measure\n",
    "                        lines[i] = f\"Calories: {calories}, Measure: {line.split(',')[1].split(':')[1]}, Protein: {protein}, Fats: {fats}, Carbs: {carbs}\\n\"\n",
    "            with open(file,'w') as out_file:\n",
    "                out_file.writelines(lines)"
   ]
  },
  {
   "attachments": {},
   "cell_type": "markdown",
   "id": "e717b02b",
   "metadata": {},
   "source": [
    "## Change all the daily trackers to csv format"
   ]
  },
  {
   "cell_type": "code",
   "execution_count": 29,
   "id": "ba885538",
   "metadata": {},
   "outputs": [
    {
     "name": "stdout",
     "output_type": "stream",
     "text": [
      "       recipe_name      measure  calories  protein  fats  carbs\n",
      "0  vermicelli upma  1.0 serving     293.0      6.0  18.0   24.0\n"
     ]
    }
   ],
   "source": [
    "import glob\n",
    "import pandas as pd\n",
    "files = [file for file in glob.glob(\"daily_trackers\\*\\*.txt\") if (not 'calorie_deficit' in file) and (not 'total_nutrition' in file)]\n",
    "for file in files:\n",
    "    columns = [\"recipe_name\",\"measure\",\"calories\",\"protein\",\"fats\",\"carbs\"]\n",
    "    meals_list = list()\n",
    "    i = 0\n",
    "    with open(file) as f:\n",
    "        lines = f.readlines()\n",
    "        for line in lines:\n",
    "            if (not 'Calories' in line) and (line != ''):\n",
    "                meals_list.append([line.split(':')[0].rstrip().lstrip()])\n",
    "            elif 'Calories' in line:\n",
    "                nutrition = line.split(',')\n",
    "                calories = nutrition[0].split(':')[1].rstrip().lstrip()\n",
    "                measure = nutrition[1].split(':')[1].rstrip().lstrip()\n",
    "                protein = nutrition[2].split(':')[1].rstrip().lstrip()\n",
    "                fats = nutrition[3].split(':')[1].rstrip().lstrip()\n",
    "                carbs = nutrition[4].split(':')[1].rstrip().lstrip()\n",
    "                meals_list[i]  += [measure,calories,protein,fats,carbs]\n",
    "                i += 1\n",
    "        df = pd.DataFrame(meals_list, columns=columns)\n",
    "        with open(file,'w') as f:\n",
    "            df.to_csv(f,sep=\",\",index=False)\n",
    "df = pd.read_csv(\"daily_trackers/Jan-07-2023_tracker/breakfast.txt\")\n",
    "print(df)\n"
   ]
  },
  {
   "cell_type": "markdown",
   "id": "2822b1fc",
   "metadata": {},
   "source": [
    "## Use csv from daily tracker files and update"
   ]
  },
  {
   "cell_type": "code",
   "execution_count": 30,
   "id": "26710425",
   "metadata": {},
   "outputs": [
    {
     "name": "stdout",
     "output_type": "stream",
     "text": [
      "                                                                vermicelli upma :\n",
      "Calories: 293.0  Measure: 1.0 serving  Protein: 6.0  Fats: 18.0       Carbs: 24.0\n"
     ]
    }
   ],
   "source": [
    "import pandas as pd\n",
    "import os\n",
    "day_folder = 'daily_trackers/Jan-07-2023_tracker'\n",
    "fname = day_folder + os.sep + 'breakfast.txt'\n",
    "df = pd.read_csv(fname,sep=',')\n",
    "print(df)"
   ]
  },
  {
   "cell_type": "code",
   "execution_count": null,
   "id": "1bdb1488",
   "metadata": {},
   "outputs": [],
   "source": []
  }
 ],
 "metadata": {
  "kernelspec": {
   "display_name": "Python 3",
   "language": "python",
   "name": "python3"
  },
  "language_info": {
   "codemirror_mode": {
    "name": "ipython",
    "version": 3
   },
   "file_extension": ".py",
   "mimetype": "text/x-python",
   "name": "python",
   "nbconvert_exporter": "python",
   "pygments_lexer": "ipython3",
   "version": "3.7.8"
  },
  "vscode": {
   "interpreter": {
    "hash": "d49c3f6d6dd49f9272b571d9fad348ab55b8c6c3f691520d74ed0af1f69c3dd8"
   }
  }
 },
 "nbformat": 4,
 "nbformat_minor": 5
}
